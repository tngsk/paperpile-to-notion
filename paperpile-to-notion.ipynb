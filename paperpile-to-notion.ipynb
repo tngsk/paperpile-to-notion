{
 "cells": [
  {
   "cell_type": "markdown",
   "source": [
    "# Paperpile to Notion\n",
    "\n",
    "[API Reference](https://developers.notion.com/)\n",
    "\n",
    "`% conda activate api`\n",
    "\n",
    "`% conda install -c conda-forge jsonpath-ng`\n"
   ],
   "metadata": {}
  },
  {
   "cell_type": "code",
   "execution_count": null,
   "source": [
    "import requests\n",
    "import secret\n",
    "import json"
   ],
   "outputs": [],
   "metadata": {}
  },
  {
   "cell_type": "code",
   "execution_count": null,
   "source": [
    "# Retrieve a database\n",
    "\n",
    "base_url = 'https://api.notion.com/v1/databases/'\n",
    "\n",
    "header = {'Authorization': secret.NOTION_API_KEY,\n",
    "          'Notion-Version': '2021-08-16', 'Content-Type': 'application/json'}\n",
    "query = {'filter': {'property': 'Sync', 'checkbox': {'equals': True}}}\n",
    "query = {}\n",
    "\n",
    "response = requests.post(base_url + secret.NOTION_DATABASE_ID + '/query',\n",
    "                         headers=header, json=query)\n",
    "response\n"
   ],
   "outputs": [],
   "metadata": {}
  },
  {
   "cell_type": "code",
   "execution_count": null,
   "source": [],
   "outputs": [],
   "metadata": {}
  },
  {
   "cell_type": "code",
   "execution_count": null,
   "source": [
    "response.json()"
   ],
   "outputs": [],
   "metadata": {}
  },
  {
   "cell_type": "code",
   "execution_count": null,
   "source": [
    "# Create a Page\n",
    "\n",
    "base_url = 'https://api.notion.com/v1/pages'\n",
    "\n",
    "header = {'Authorization': secret.NOTION_API_KEY,\n",
    "          'Notion-Version': '2021-08-16', 'Content-Type': 'application/json'}\n",
    "\n",
    "query = {\n",
    "    'parent': {'database_id': secret.NOTION_DATABASE_ID},\n",
    "    'properties': {\n",
    "        'Number': 401,\n",
    "        'Name': [{'type': 'text', 'text': {'content': 'from Python'}}],\n",
    "        'Column': [{'type': 'text', 'text': {'content': \"Tag 1\"}}],\n",
    "    }\n",
    "}\n",
    "\n",
    "response = requests.post(base_url, headers=header, json=query)\n",
    "response\n"
   ],
   "outputs": [],
   "metadata": {}
  },
  {
   "cell_type": "code",
   "execution_count": null,
   "source": [
    "# Paperpile JSON\n",
    "\n",
    "fn = ('data/Paperpile - Oct 07 JSON Export.txt')\n",
    "with open(fn) as f:\n",
    "    papers = json.load(f)\n",
    "\n",
    "len(papers)\n"
   ],
   "outputs": [],
   "metadata": {}
  },
  {
   "cell_type": "code",
   "execution_count": null,
   "source": [
    "def decode(x):\n",
    "    return [i for i in x]\n",
    "\n",
    "decode(papers[-1])\n"
   ],
   "outputs": [],
   "metadata": {}
  },
  {
   "cell_type": "code",
   "execution_count": null,
   "source": [
    "title = papers[-1]['title']\n",
    "url = papers[-1]['url']\n",
    "doi = papers[-1]['doi']\n",
    "published = papers[-1]['published']['year']\n",
    "abstract = papers[-1]['abstract']\n",
    "author = papers[-1]['author']\n",
    "# note = papers[-1]['note']\n"
   ],
   "outputs": [],
   "metadata": {}
  },
  {
   "cell_type": "code",
   "execution_count": null,
   "source": [
    "(title, url, doi, published, abstract, author)\n"
   ],
   "outputs": [],
   "metadata": {}
  },
  {
   "cell_type": "code",
   "execution_count": 37,
   "source": [
    "# Create a Page\n",
    "\n",
    "base_url = 'https://api.notion.com/v1/pages'\n",
    "\n",
    "header = {'Authorization': secret.NOTION_API_KEY,\n",
    "          'Notion-Version': '2021-08-16', 'Content-Type': 'application/json'}\n",
    "\n",
    "query = {\n",
    "    'parent': {'database_id': secret.NOTION_DATABASE_ID},\n",
    "    'properties': {\n",
    "        'Title': [{'type': 'text', 'text': {'content': title}}],\n",
    "        # 'Author': [{'type': 'text', 'text': {'content': author[0]['bak']}}],\n",
    "        'Published': [{'type': 'text', 'text': {'content': published}}],\n",
    "        'doi': [{'type': 'text', 'text': {'content': doi}}],\n",
    "        # 'URL': {'url': 'url[0]'}\n",
    "    }\n",
    "}\n",
    "\n",
    "response = requests.post(base_url, headers=header, json=query)\n",
    "response\n"
   ],
   "outputs": [
    {
     "output_type": "execute_result",
     "data": {
      "text/plain": [
       "<Response [200]>"
      ]
     },
     "metadata": {},
     "execution_count": 37
    }
   ],
   "metadata": {}
  },
  {
   "cell_type": "code",
   "execution_count": 34,
   "source": [
    "response.json()"
   ],
   "outputs": [
    {
     "output_type": "execute_result",
     "data": {
      "text/plain": [
       "{'object': 'error',\n",
       " 'status': 400,\n",
       " 'code': 'validation_error',\n",
       " 'message': 'body failed validation: body.properties.Author[0].text.content should be a string, instead was `[{\"initials\":\"R\",\"first\":\"Rick\",\"level\":\"0.0\",\"bak\":\"Bu...`.'}"
      ]
     },
     "metadata": {},
     "execution_count": 34
    }
   ],
   "metadata": {}
  },
  {
   "cell_type": "code",
   "execution_count": 14,
   "source": [
    "title"
   ],
   "outputs": [
    {
     "output_type": "execute_result",
     "data": {
      "text/plain": [
       "'Measuring Narrative Engagement'"
      ]
     },
     "metadata": {},
     "execution_count": 14
    }
   ],
   "metadata": {}
  },
  {
   "cell_type": "code",
   "execution_count": 47,
   "source": [
    "def propTitle(column, content):\n",
    "    return {column: {\"title\": [{\"type\": \"text\", \"text\": {\"content\": content}}]}}\n"
   ],
   "outputs": [],
   "metadata": {}
  },
  {
   "cell_type": "code",
   "execution_count": 48,
   "source": [
    "propTitle('Title', title)"
   ],
   "outputs": [
    {
     "output_type": "execute_result",
     "data": {
      "text/plain": [
       "{'Title': {'title': [{'type': 'text',\n",
       "    'text': {'content': 'Measuring Narrative Engagement'}}]}}"
      ]
     },
     "metadata": {},
     "execution_count": 48
    }
   ],
   "metadata": {}
  },
  {
   "cell_type": "code",
   "execution_count": null,
   "source": [],
   "outputs": [],
   "metadata": {}
  }
 ],
 "metadata": {
  "orig_nbformat": 4,
  "language_info": {
   "name": "python",
   "version": "3.9.7",
   "mimetype": "text/x-python",
   "codemirror_mode": {
    "name": "ipython",
    "version": 3
   },
   "pygments_lexer": "ipython3",
   "nbconvert_exporter": "python",
   "file_extension": ".py"
  },
  "kernelspec": {
   "name": "python3",
   "display_name": "Python 3.9.7 64-bit ('api': conda)"
  },
  "interpreter": {
   "hash": "d4cbd0a915250c3c1720287f5f50fb0d552df340ac9280267ff9eae3ca3a77c6"
  }
 },
 "nbformat": 4,
 "nbformat_minor": 2
}