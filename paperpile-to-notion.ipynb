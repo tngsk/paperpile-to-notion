{
 "cells": [
  {
   "cell_type": "markdown",
   "metadata": {},
   "source": [
    "# Paperpile to Notion\n",
    "\n",
    "[API Reference](https://developers.notion.com/)\n",
    "\n",
    "`% conda activate api`\n",
    "\n",
    "`% conda install -c conda-forge jsonpath-ng`\n"
   ]
  },
  {
   "cell_type": "code",
   "execution_count": 3,
   "metadata": {},
   "outputs": [],
   "source": [
    "import requests\n",
    "import secret\n",
    "import json"
   ]
  },
  {
   "cell_type": "code",
   "execution_count": 5,
   "metadata": {},
   "outputs": [
    {
     "data": {
      "text/plain": [
       "<Response [200]>"
      ]
     },
     "execution_count": 5,
     "metadata": {},
     "output_type": "execute_result"
    }
   ],
   "source": [
    "# Retrieve a database\n",
    "\n",
    "base_url = 'https://api.notion.com/v1/databases/'\n",
    "\n",
    "# secret.NOTION_API_KEY = secret.NOTION_API\n",
    "\n",
    "header = {'Authorization': secret.NOTION_API_KEY,\n",
    "          'Notion-Version': '2021-08-16', 'Content-Type': 'application/json'}\n",
    "query = {'filter': {'property': 'Sync', 'checkbox': {'equals': True}}}\n",
    "query = {}\n",
    "\n",
    "response = requests.post(base_url + secret.NOTION_DATABASE_ID + '/query',\n",
    "                         headers=header, json=query)\n",
    "response\n"
   ]
  },
  {
   "cell_type": "code",
   "execution_count": null,
   "metadata": {},
   "outputs": [],
   "source": [
    "print(secret)"
   ]
  },
  {
   "cell_type": "code",
   "execution_count": null,
   "metadata": {},
   "outputs": [],
   "source": [
    "response.json()"
   ]
  },
  {
   "cell_type": "code",
   "execution_count": null,
   "metadata": {},
   "outputs": [],
   "source": [
    "# Create a Page\n",
    "\n",
    "base_url = 'https://api.notion.com/v1/pages'\n",
    "\n",
    "header = {'Authorization': secret.NOTION_API_KEY,\n",
    "          'Notion-Version': '2021-08-16', 'Content-Type': 'application/json'}\n",
    "\n",
    "query = {\n",
    "    'parent': {'database_id': secret.NOTION_DATABASE_ID},\n",
    "    'properties': {\n",
    "        'Number': 401,\n",
    "        'Name': [{'type': 'text', 'text': {'content': 'from Python'}}],\n",
    "        'Column': [{'type': 'text', 'text': {'content': \"Tag 1\"}}],\n",
    "    }\n",
    "}\n",
    "\n",
    "response = requests.post(base_url, headers=header, json=query)\n",
    "response\n"
   ]
  },
  {
   "cell_type": "code",
   "execution_count": null,
   "metadata": {},
   "outputs": [],
   "source": [
    "# Paperpile JSON\n",
    "\n",
    "fn = ('data/Paperpile - Oct 06 JSON Export.txt')\n",
    "with open(fn) as f:\n",
    "    papers = json.load(f)\n",
    "\n",
    "title = papers[-1]['title']\n",
    "url = papers[-1]['url']\n",
    "doi = papers[-1]['doi']\n",
    "published = papers[-1]['published']['year']\n",
    "abstract = papers[-1]['abstract']\n",
    "author = papers[-1]['author']\n",
    "(title, url, doi, published, abstract, author)\n"
   ]
  },
  {
   "cell_type": "code",
   "execution_count": null,
   "metadata": {},
   "outputs": [],
   "source": [
    "def decode(x):\n",
    "    return [i for i in x]\n",
    "\n",
    "decode(papers[-1])\n",
    "\n",
    "\n"
   ]
  },
  {
   "cell_type": "code",
   "execution_count": null,
   "metadata": {},
   "outputs": [],
   "source": [
    "# Create a Page\n",
    "\n",
    "base_url = 'https://api.notion.com/v1/pages'\n",
    "\n",
    "header = {'Authorization': secret.NOTION_API_KEY,\n",
    "          'Notion-Version': '2021-08-16', 'Content-Type': 'application/json'}\n",
    "\n",
    "query = {\n",
    "    'parent': {'database_id': secret.NOTION_DATABASE_ID},\n",
    "    'properties': {\n",
    "        'Title': [{'type': 'text', 'text': {'content': title}}],\n",
    "        # 'Author': [{'type': 'text', 'text': {'content': author[0]['bak']}}],\n",
    "        'Published': [{'type': 'text', 'text': {'content': published}}],\n",
    "        'doi': [{'type': 'text', 'text': {'content': doi}}],\n",
    "        # 'URL': {'url': 'url[0]'}\n",
    "    }\n",
    "}\n",
    "\n",
    "\n",
    "query = {\n",
    "    'parent': {'database_id': secret.NOTION_DATABASE_ID},\n",
    "    'properties': {\n",
    "        'Title': [{'type': 'text', 'text': {'content': title}}],\n",
    "        'Published': [{'type': 'text', 'text': {'content': published}}],\n",
    "        'doi': [{'type': 'text', 'text': {'content': doi}}],\n",
    "    }\n",
    "}\n",
    "\n",
    "response = requests.post(base_url, headers=header, json=query)\n",
    "response\n"
   ]
  },
  {
   "cell_type": "code",
   "execution_count": null,
   "metadata": {},
   "outputs": [],
   "source": [
    "response.json()"
   ]
  },
  {
   "cell_type": "code",
   "execution_count": 55,
   "metadata": {},
   "outputs": [],
   "source": [
    "def propTitle(_text):\n",
    "    return {\"title\": [{\"type\": \"text\", \"text\": {\"content\": _text}}]}\n",
    "\n",
    "def propRichText(_text):\n",
    "    return {\"rich_text\": [{\"type\": \"text\", \"text\": {\"content\": _text}}]}\n",
    "\n",
    "\n",
    "def propText(_text):\n",
    "    return {\"text\": [{\"type\": \"text\", \"text\": {\"content\": _text}}]}\n",
    "\n",
    "def propNumber(_number):\n",
    "    return {\"number\": _number}\n",
    "\n",
    "def propURL(_url):\n",
    "    return {\"url\": _url}\n"
   ]
  },
  {
   "cell_type": "code",
   "execution_count": 56,
   "metadata": {},
   "outputs": [
    {
     "data": {
      "text/plain": [
       "[{'object': 'block',\n",
       "  'type': 'paragraph',\n",
       "  'paragraph': {'text': [{'type': 'text',\n",
       "     'text': {'content': \"Research indicates that the extent to which one becomes engaged, transported, or immersed in a narrative influences the narrative's potential to affect subsequent story-related attitudes and beliefs. Explaining narrative effects and understanding the mechanisms responsible depends on our ability to measure narrative engagement in a theoretically meaningful way. This article develops a scale for measuring narrative engagement that is based on a mental models approach to narrative processing. It distinguishes among four dimensions of experiential engagement in narratives: narrative understanding, attentional focus, emotional engagement, and narrative presence. The scale is developed and validated through exploratory and confirmatory factor analyses with data from viewers of feature film and television, in different viewing situations, and from two different countries. The scale's ability to predict enjoyment and story-consistent attitudes across different programs is presented. Implications for conceptualizing engagement with narratives as well as narrative persuasion and media effects are discussed.\"}}]}}]"
      ]
     },
     "execution_count": 56,
     "metadata": {},
     "output_type": "execute_result"
    }
   ],
   "source": [
    "paragraph = (dict(\n",
    "    object='block',\n",
    "    type='paragraph',\n",
    "    paragraph=propText(abstract)))\n",
    "\n",
    "paragraph\n",
    "\n",
    "children = []\n",
    "children.append(paragraph)\n",
    "\n",
    "children\n"
   ]
  },
  {
   "cell_type": "code",
   "execution_count": 32,
   "metadata": {},
   "outputs": [
    {
     "name": "stdout",
     "output_type": "stream",
     "text": [
      "----- Exception -----\n",
      "'NoneType' object is not subscriptable\n",
      "----- Exception -----\n",
      "'NoneType' object is not subscriptable\n",
      "----- Exception -----\n",
      "'NoneType' object is not subscriptable\n",
      "----- Exception -----\n",
      "'NoneType' object is not subscriptable\n",
      "----- Exception -----\n",
      "'NoneType' object is not subscriptable\n",
      "----- Exception -----\n",
      "'year'\n",
      "----- Exception -----\n",
      "'year'\n"
     ]
    }
   ],
   "source": [
    "# Paperpile JSON\n",
    "import json\n",
    "\n",
    "\n",
    "def propTitle(_text):\n",
    "    return {\"title\": [{\"type\": \"text\", \"text\": {\"content\": _text}}]}\n",
    "\n",
    "\n",
    "def propRichText(_text):\n",
    "    return {\"rich_text\": [{\"type\": \"text\", \"text\": {\"content\": _text}}]}\n",
    "\n",
    "\n",
    "def propText(_text):\n",
    "    return {\"text\": [{\"type\": \"text\", \"text\": {\"content\": _text}}]}\n",
    "\n",
    "\n",
    "def propNumber(_number):\n",
    "    return {\"number\": _number}\n",
    "\n",
    "\n",
    "def propURL(_url):\n",
    "    return {\"url\": _url}\n",
    "    \n",
    "\n",
    "\n",
    "fn = ('data/Paperpile - Oct 06 JSON Export.txt')\n",
    "with open(fn) as f:\n",
    "    papers = json.load(f)\n",
    "\n",
    "for paper in papers:\n",
    "\n",
    "    title=url=doi=published=abstract=author = \"\"\n",
    "\n",
    "    try:\n",
    "        title = paper.get('title')\n",
    "        url = paper.get('url')\n",
    "        doi = paper.get('doi')\n",
    "        published = paper.get('published')['year']\n",
    "        abstract = paper.get('abstract')\n",
    "        author = paper.get('author')\n",
    "\n",
    "    except Exception as e:\n",
    "        print('----- Exception -----')\n",
    "        if hasattr(e, 'message'):\n",
    "            print(e.message)\n",
    "        else:\n",
    "            print(e)\n",
    "        # print(paper)\n",
    "        # print('----- Exception -----')\n",
    "\n",
    "    # Create a Page\n",
    "\n",
    "    base_url = 'https://api.notion.com/v1/pages'\n",
    "    header = {'Authorization': secret.NOTION_API_KEY,\n",
    "            'Notion-Version': '2021-08-16', 'Content-Type': 'application/json'}\n",
    "\n",
    "    paragraph = (dict(\n",
    "        object='block',\n",
    "        type='paragraph',\n",
    "        paragraph=propText(abstract)))\n",
    "\n",
    "    children = []\n",
    "    children.append(paragraph)\n",
    "\n",
    "    query = (dict(\n",
    "        parent=dict(database_id=secret.NOTION_DATABASE_ID),\n",
    "        properties=dict(\n",
    "        )))\n",
    "\n",
    "    # もしアブストラクトがあれば\n",
    "    # blockの字数制限に注意\n",
    "\n",
    "    if title is not None:\n",
    "        query['properties'].update(dict(Title=propTitle(title)))\n",
    "\n",
    "    if published is not None:\n",
    "        query['properties'].update(dict(Published=propRichText(published)))\n",
    "\n",
    "    if abstract is not None:\n",
    "        query.update(dict(children=children))\n",
    "\n",
    "    if doi is not None:\n",
    "        query['properties'].update(dict(doi=propRichText(doi)))\n",
    "\n",
    "    if url is not None:\n",
    "        query['properties'].update(dict(URL=propURL(url[0])))\n",
    "\n",
    "    response = requests.post(base_url, headers=header, json=query)\n",
    "    response\n"
   ]
  },
  {
   "cell_type": "code",
   "execution_count": 17,
   "metadata": {},
   "outputs": [
    {
     "data": {
      "text/plain": [
       "{'object': 'page',\n",
       " 'id': '1bc6ac0a-53fb-4e51-8f57-8f74af455c5e',\n",
       " 'created_time': '2021-10-08T02:20:00.000Z',\n",
       " 'last_edited_time': '2021-10-08T02:20:00.000Z',\n",
       " 'cover': None,\n",
       " 'icon': None,\n",
       " 'parent': {'type': 'database_id',\n",
       "  'database_id': 'c342e37e-b74f-4b06-8664-588c0de7cac3'},\n",
       " 'archived': False,\n",
       " 'properties': {'Published': {'id': 'JZQS',\n",
       "   'type': 'rich_text',\n",
       "   'rich_text': [{'type': 'text',\n",
       "     'text': {'content': '2018', 'link': None},\n",
       "     'annotations': {'bold': False,\n",
       "      'italic': False,\n",
       "      'strikethrough': False,\n",
       "      'underline': False,\n",
       "      'code': False,\n",
       "      'color': 'default'},\n",
       "     'plain_text': '2018',\n",
       "     'href': None}]},\n",
       "  'Author': {'id': 'MouU', 'type': 'rich_text', 'rich_text': []},\n",
       "  'doi': {'id': 'ZIRT',\n",
       "   'type': 'rich_text',\n",
       "   'rich_text': [{'type': 'text',\n",
       "     'text': {'content': '10.15252/embj.2018101215', 'link': None},\n",
       "     'annotations': {'bold': False,\n",
       "      'italic': False,\n",
       "      'strikethrough': False,\n",
       "      'underline': False,\n",
       "      'code': False,\n",
       "      'color': 'default'},\n",
       "     'plain_text': '10.15252/embj.2018101215',\n",
       "     'href': None}]},\n",
       "  'URL': {'id': 'ZgO%3E',\n",
       "   'type': 'url',\n",
       "   'url': 'http://dx.doi.org/10.15252/embj.2018101215'},\n",
       "  'Title': {'id': 'title',\n",
       "   'type': 'title',\n",
       "   'title': [{'type': 'text',\n",
       "     'text': {'content': 'Open Access-or Open Science?', 'link': None},\n",
       "     'annotations': {'bold': False,\n",
       "      'italic': False,\n",
       "      'strikethrough': False,\n",
       "      'underline': False,\n",
       "      'code': False,\n",
       "      'color': 'default'},\n",
       "     'plain_text': 'Open Access-or Open Science?',\n",
       "     'href': None}]}},\n",
       " 'url': 'https://www.notion.so/Open-Access-or-Open-Science-1bc6ac0a53fb4e518f578f74af455c5e'}"
      ]
     },
     "execution_count": 17,
     "metadata": {},
     "output_type": "execute_result"
    }
   ],
   "source": [
    "response.json()"
   ]
  },
  {
   "cell_type": "code",
   "execution_count": null,
   "metadata": {},
   "outputs": [],
   "source": []
  }
 ],
 "metadata": {
  "interpreter": {
   "hash": "d4cbd0a915250c3c1720287f5f50fb0d552df340ac9280267ff9eae3ca3a77c6"
  },
  "kernelspec": {
   "display_name": "Python 3.9.7 64-bit ('api': conda)",
   "name": "python3"
  },
  "language_info": {
   "codemirror_mode": {
    "name": "ipython",
    "version": 3
   },
   "file_extension": ".py",
   "mimetype": "text/x-python",
   "name": "python",
   "nbconvert_exporter": "python",
   "pygments_lexer": "ipython3",
   "version": "3.9.7"
  },
  "orig_nbformat": 4
 },
 "nbformat": 4,
 "nbformat_minor": 2
}
