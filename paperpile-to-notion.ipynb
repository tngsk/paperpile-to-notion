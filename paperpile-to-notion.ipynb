{
 "cells": [
  {
   "cell_type": "markdown",
   "source": [
    "# Paperpile to Notion\n",
    "\n",
    "[API Reference](https://developers.notion.com/)\n",
    "\n",
    "`% conda activate api`\n",
    "\n",
    "`% conda install -c conda-forge jsonpath-ng`\n"
   ],
   "metadata": {}
  },
  {
   "cell_type": "code",
   "execution_count": null,
   "source": [
    "import requests\n",
    "import secret\n",
    "import json"
   ],
   "outputs": [],
   "metadata": {}
  },
  {
   "cell_type": "code",
   "execution_count": null,
   "source": [
    "# Retrieve a database\n",
    "\n",
    "base_url = 'https://api.notion.com/v1/databases/'\n",
    "\n",
    "secret.NOTION_API_KEY = secret.NOTION_API\n",
    "\n",
    "header = {'Authorization': secret.NOTION_API_KEY,\n",
    "          'Notion-Version': '2021-08-16', 'Content-Type': 'application/json'}\n",
    "query = {'filter': {'property': 'Sync', 'checkbox': {'equals': True}}}\n",
    "query = {}\n",
    "\n",
    "response = requests.post(base_url + secret.NOTION_DATABASE_ID + '/query',\n",
    "                         headers=header, json=query)\n",
    "response\n"
   ],
   "outputs": [],
   "metadata": {}
  },
  {
   "cell_type": "code",
   "execution_count": null,
   "source": [
    "print(secret)"
   ],
   "outputs": [],
   "metadata": {}
  },
  {
   "cell_type": "code",
   "execution_count": null,
   "source": [
    "response.json()"
   ],
   "outputs": [],
   "metadata": {}
  },
  {
   "cell_type": "code",
   "execution_count": null,
   "source": [
    "# Create a Page\n",
    "\n",
    "base_url = 'https://api.notion.com/v1/pages'\n",
    "\n",
    "header = {'Authorization': secret.NOTION_API_KEY,\n",
    "          'Notion-Version': '2021-08-16', 'Content-Type': 'application/json'}\n",
    "\n",
    "query = {\n",
    "    'parent': {'database_id': secret.NOTION_DATABASE_ID},\n",
    "    'properties': {\n",
    "        'Number': 401,\n",
    "        'Name': [{'type': 'text', 'text': {'content': 'from Python'}}],\n",
    "        'Column': [{'type': 'text', 'text': {'content': \"Tag 1\"}}],\n",
    "    }\n",
    "}\n",
    "\n",
    "response = requests.post(base_url, headers=header, json=query)\n",
    "response\n"
   ],
   "outputs": [],
   "metadata": {}
  },
  {
   "cell_type": "code",
   "execution_count": null,
   "source": [
    "# Paperpile JSON\n",
    "\n",
    "fn = ('data/Paperpile - Oct 06 JSON Export.txt')\n",
    "with open(fn) as f:\n",
    "    papers = json.load(f)\n",
    "\n",
    "title = papers[-1]['title']\n",
    "url = papers[-1]['url']\n",
    "doi = papers[-1]['doi']\n",
    "published = papers[-1]['published']['year']\n",
    "abstract = papers[-1]['abstract']\n",
    "author = papers[-1]['author']\n",
    "(title, url, doi, published, abstract, author)\n"
   ],
   "outputs": [],
   "metadata": {}
  },
  {
   "cell_type": "code",
   "execution_count": null,
   "source": [
    "def decode(x):\n",
    "    return [i for i in x]\n",
    "\n",
    "decode(papers[-1])\n",
    "\n",
    "\n"
   ],
   "outputs": [],
   "metadata": {}
  },
  {
   "cell_type": "code",
   "execution_count": null,
   "source": [
    "# Create a Page\n",
    "\n",
    "base_url = 'https://api.notion.com/v1/pages'\n",
    "\n",
    "header = {'Authorization': secret.NOTION_API_KEY,\n",
    "          'Notion-Version': '2021-08-16', 'Content-Type': 'application/json'}\n",
    "\n",
    "query = {\n",
    "    'parent': {'database_id': secret.NOTION_DATABASE_ID},\n",
    "    'properties': {\n",
    "        'Title': [{'type': 'text', 'text': {'content': title}}],\n",
    "        # 'Author': [{'type': 'text', 'text': {'content': author[0]['bak']}}],\n",
    "        'Published': [{'type': 'text', 'text': {'content': published}}],\n",
    "        'doi': [{'type': 'text', 'text': {'content': doi}}],\n",
    "        # 'URL': {'url': 'url[0]'}\n",
    "    }\n",
    "}\n",
    "\n",
    "\n",
    "query = {\n",
    "    'parent': {'database_id': secret.NOTION_DATABASE_ID},\n",
    "    'properties': {\n",
    "        'Title': [{'type': 'text', 'text': {'content': title}}],\n",
    "        'Published': [{'type': 'text', 'text': {'content': published}}],\n",
    "        'doi': [{'type': 'text', 'text': {'content': doi}}],\n",
    "    }\n",
    "}\n",
    "\n",
    "response = requests.post(base_url, headers=header, json=query)\n",
    "response\n"
   ],
   "outputs": [],
   "metadata": {}
  },
  {
   "cell_type": "code",
   "execution_count": null,
   "source": [
    "response.json()"
   ],
   "outputs": [],
   "metadata": {}
  },
  {
   "cell_type": "code",
   "execution_count": 55,
   "source": [
    "def propTitle(_text):\n",
    "    return {\"title\": [{\"type\": \"text\", \"text\": {\"content\": _text}}]}\n",
    "\n",
    "def propRichText(_text):\n",
    "    return {\"rich_text\": [{\"type\": \"text\", \"text\": {\"content\": _text}}]}\n",
    "\n",
    "\n",
    "def propText(_text):\n",
    "    return {\"text\": [{\"type\": \"text\", \"text\": {\"content\": _text}}]}\n",
    "\n",
    "def propNumber(_number):\n",
    "    return {\"number\": _number}\n",
    "\n",
    "def propURL(_url):\n",
    "    return {\"url\": _url}\n"
   ],
   "outputs": [],
   "metadata": {}
  },
  {
   "cell_type": "code",
   "execution_count": 56,
   "source": [
    "paragraph = (dict(\n",
    "    object='block',\n",
    "    type='paragraph',\n",
    "    paragraph=propText(abstract)))\n",
    "\n",
    "paragraph\n",
    "\n",
    "children = []\n",
    "children.append(paragraph)\n",
    "\n",
    "children\n"
   ],
   "outputs": [
    {
     "output_type": "execute_result",
     "data": {
      "text/plain": [
       "[{'object': 'block',\n",
       "  'type': 'paragraph',\n",
       "  'paragraph': {'text': [{'type': 'text',\n",
       "     'text': {'content': \"Research indicates that the extent to which one becomes engaged, transported, or immersed in a narrative influences the narrative's potential to affect subsequent story-related attitudes and beliefs. Explaining narrative effects and understanding the mechanisms responsible depends on our ability to measure narrative engagement in a theoretically meaningful way. This article develops a scale for measuring narrative engagement that is based on a mental models approach to narrative processing. It distinguishes among four dimensions of experiential engagement in narratives: narrative understanding, attentional focus, emotional engagement, and narrative presence. The scale is developed and validated through exploratory and confirmatory factor analyses with data from viewers of feature film and television, in different viewing situations, and from two different countries. The scale's ability to predict enjoyment and story-consistent attitudes across different programs is presented. Implications for conceptualizing engagement with narratives as well as narrative persuasion and media effects are discussed.\"}}]}}]"
      ]
     },
     "metadata": {},
     "execution_count": 56
    }
   ],
   "metadata": {}
  },
  {
   "cell_type": "code",
   "execution_count": 63,
   "source": [
    "# Paperpile JSON\n",
    "\n",
    "fn = ('data/Paperpile - Oct 06 JSON Export.txt')\n",
    "with open(fn) as f:\n",
    "    papers = json.load(f)\n",
    "\n",
    "idx = 199\n",
    "\n",
    "title = papers[idx]['title']\n",
    "url = papers[idx]['url']\n",
    "doi = papers[idx]['doi']\n",
    "published = papers[idx]['published']['year']\n",
    "abstract = papers[idx]['abstract']\n",
    "author = papers[idx]['author']\n",
    "\n",
    "# (title, url, doi, published, abstract, author)\n",
    "\n",
    "# Create a Page\n",
    "\n",
    "base_url = 'https://api.notion.com/v1/pages'\n",
    "\n",
    "header = {'Authorization': secret.NOTION_API_KEY,\n",
    "          'Notion-Version': '2021-08-16', 'Content-Type': 'application/json'}\n",
    "\n",
    "query = (dict(\n",
    "    parent=dict(database_id=secret.NOTION_DATABASE_ID),\n",
    "    properties=dict(\n",
    "        Title=propTitle(title),\n",
    "        Published=propRichText(published),\n",
    "        doi=propRichText(doi),\n",
    "        URL=propURL(url[0])\n",
    "    ),\n",
    "    children=children))\n",
    "\n",
    "print(query)\n",
    "response = requests.post(base_url, headers=header, json=query)\n",
    "response\n"
   ],
   "outputs": [
    {
     "output_type": "stream",
     "name": "stdout",
     "text": [
      "{'parent': {'database_id': 'c342e37eb74f4b068664588c0de7cac3'}, 'properties': {'Title': {'title': [{'type': 'text', 'text': {'content': 'Visualization for Decision Support in FITradeoff Method: Exploring Its Evaluation with Cognitive Neuroscience'}}]}, 'Published': {'rich_text': [{'type': 'text', 'text': {'content': '2017'}}]}, 'doi': {'rich_text': [{'type': 'text', 'text': {'content': '10.1007/978-3-319-57487-5_5'}}]}, 'URL': {'url': 'http://dx.doi.org/10.1007/978-3-319-57487-5_5'}}, 'children': [{'object': 'block', 'type': 'paragraph', 'paragraph': {'text': [{'type': 'text', 'text': {'content': \"Research indicates that the extent to which one becomes engaged, transported, or immersed in a narrative influences the narrative's potential to affect subsequent story-related attitudes and beliefs. Explaining narrative effects and understanding the mechanisms responsible depends on our ability to measure narrative engagement in a theoretically meaningful way. This article develops a scale for measuring narrative engagement that is based on a mental models approach to narrative processing. It distinguishes among four dimensions of experiential engagement in narratives: narrative understanding, attentional focus, emotional engagement, and narrative presence. The scale is developed and validated through exploratory and confirmatory factor analyses with data from viewers of feature film and television, in different viewing situations, and from two different countries. The scale's ability to predict enjoyment and story-consistent attitudes across different programs is presented. Implications for conceptualizing engagement with narratives as well as narrative persuasion and media effects are discussed.\"}}]}}]}\n"
     ]
    },
    {
     "output_type": "execute_result",
     "data": {
      "text/plain": [
       "<Response [200]>"
      ]
     },
     "metadata": {},
     "execution_count": 63
    }
   ],
   "metadata": {}
  },
  {
   "cell_type": "code",
   "execution_count": 58,
   "source": [
    "response.json()"
   ],
   "outputs": [
    {
     "output_type": "execute_result",
     "data": {
      "text/plain": [
       "{'object': 'page',\n",
       " 'id': 'a3f2691c-641c-44e8-82a5-d124e19065fa',\n",
       " 'created_time': '2021-10-07T23:39:00.000Z',\n",
       " 'last_edited_time': '2021-10-07T23:39:00.000Z',\n",
       " 'cover': None,\n",
       " 'icon': None,\n",
       " 'parent': {'type': 'database_id',\n",
       "  'database_id': 'c342e37e-b74f-4b06-8664-588c0de7cac3'},\n",
       " 'archived': False,\n",
       " 'properties': {'Published': {'id': 'JZQS',\n",
       "   'type': 'rich_text',\n",
       "   'rich_text': [{'type': 'text',\n",
       "     'text': {'content': '2009', 'link': None},\n",
       "     'annotations': {'bold': False,\n",
       "      'italic': False,\n",
       "      'strikethrough': False,\n",
       "      'underline': False,\n",
       "      'code': False,\n",
       "      'color': 'default'},\n",
       "     'plain_text': '2009',\n",
       "     'href': None}]},\n",
       "  'Author': {'id': 'MouU', 'type': 'rich_text', 'rich_text': []},\n",
       "  'doi': {'id': 'ZIRT',\n",
       "   'type': 'rich_text',\n",
       "   'rich_text': [{'type': 'text',\n",
       "     'text': {'content': '10.1080/15213260903287259', 'link': None},\n",
       "     'annotations': {'bold': False,\n",
       "      'italic': False,\n",
       "      'strikethrough': False,\n",
       "      'underline': False,\n",
       "      'code': False,\n",
       "      'color': 'default'},\n",
       "     'plain_text': '10.1080/15213260903287259',\n",
       "     'href': None}]},\n",
       "  'URL': {'id': 'ZgO%3E',\n",
       "   'type': 'url',\n",
       "   'url': 'https://doi.org/10.1080/15213260903287259'},\n",
       "  'Title': {'id': 'title',\n",
       "   'type': 'title',\n",
       "   'title': [{'type': 'text',\n",
       "     'text': {'content': 'Measuring Narrative Engagement', 'link': None},\n",
       "     'annotations': {'bold': False,\n",
       "      'italic': False,\n",
       "      'strikethrough': False,\n",
       "      'underline': False,\n",
       "      'code': False,\n",
       "      'color': 'default'},\n",
       "     'plain_text': 'Measuring Narrative Engagement',\n",
       "     'href': None}]}},\n",
       " 'url': 'https://www.notion.so/Measuring-Narrative-Engagement-a3f2691c641c44e882a5d124e19065fa'}"
      ]
     },
     "metadata": {},
     "execution_count": 58
    }
   ],
   "metadata": {}
  },
  {
   "cell_type": "code",
   "execution_count": null,
   "source": [],
   "outputs": [],
   "metadata": {}
  }
 ],
 "metadata": {
  "orig_nbformat": 4,
  "language_info": {
   "name": "python",
   "version": "3.9.7",
   "mimetype": "text/x-python",
   "codemirror_mode": {
    "name": "ipython",
    "version": 3
   },
   "pygments_lexer": "ipython3",
   "nbconvert_exporter": "python",
   "file_extension": ".py"
  },
  "kernelspec": {
   "name": "python3",
   "display_name": "Python 3.9.7 64-bit ('api': conda)"
  },
  "interpreter": {
   "hash": "d4cbd0a915250c3c1720287f5f50fb0d552df340ac9280267ff9eae3ca3a77c6"
  }
 },
 "nbformat": 4,
 "nbformat_minor": 2
}